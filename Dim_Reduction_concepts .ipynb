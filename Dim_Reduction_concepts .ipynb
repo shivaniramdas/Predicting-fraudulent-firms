{
 "cells": [
  {
   "cell_type": "code",
   "execution_count": 8,
   "metadata": {},
   "outputs": [],
   "source": [
    "import numpy as np\n",
    "import matplotlib.pyplot as plt"
   ]
  },
  {
   "cell_type": "code",
   "execution_count": 2,
   "metadata": {},
   "outputs": [],
   "source": [
    "np.random.seed(4)\n",
    "m = 60\n",
    "w1, w2 = 0.1, 0.3\n",
    "noise = 0.1\n",
    "\n",
    "angles = np.random.rand(m) * 3 * np.pi / 2 - 0.5\n",
    "X = np.empty((m, 3))\n",
    "X[:, 0] = np.cos(angles) + np.sin(angles)/2 + noise * np.random.randn(m) / 2\n",
    "X[:, 1] = np.sin(angles) * 0.7 + noise * np.random.randn(m) / 2\n",
    "X[:, 2] = X[:, 0] * w1 + X[:, 1] * w2 + noise * np.random.randn(m)"
   ]
  },
  {
   "cell_type": "markdown",
   "metadata": {},
   "source": [
    "## PCA using SVD decomposition"
   ]
  },
  {
   "cell_type": "code",
   "execution_count": 3,
   "metadata": {},
   "outputs": [],
   "source": [
    "X_centered  = X - X.mean(axis=0)\n",
    "U, s, Vt = np.linalg.svd(X_centered)\n",
    "c1 = Vt.T[:, 0]\n",
    "c2 = Vt.T[:, 1]"
   ]
  },
  {
   "cell_type": "code",
   "execution_count": 42,
   "metadata": {},
   "outputs": [
    {
     "data": {
      "text/plain": [
       "array([[ 0.93636116,  0.29854881,  0.18465208],\n",
       "       [-0.34027485,  0.90119108,  0.2684542 ],\n",
       "       [-0.08626012, -0.31420255,  0.94542898]])"
      ]
     },
     "execution_count": 42,
     "metadata": {},
     "output_type": "execute_result"
    }
   ],
   "source": [
    "Vt"
   ]
  },
  {
   "cell_type": "code",
   "execution_count": 4,
   "metadata": {},
   "outputs": [],
   "source": [
    "m, n = X.shape\n",
    "\n",
    "S = np.zeros(X_centered.shape)\n",
    "S[:n, :n] = np.diag(s)"
   ]
  },
  {
   "cell_type": "code",
   "execution_count": 6,
   "metadata": {},
   "outputs": [
    {
     "data": {
      "text/plain": [
       "True"
      ]
     },
     "execution_count": 6,
     "metadata": {},
     "output_type": "execute_result"
    }
   ],
   "source": [
    "np.allclose(X_centered, U.dot(S).dot(Vt))"
   ]
  },
  {
   "cell_type": "code",
   "execution_count": 7,
   "metadata": {},
   "outputs": [],
   "source": [
    "W2 = Vt.T[:, :2]\n",
    "X2D = X_centered.dot(W2)"
   ]
  },
  {
   "cell_type": "code",
   "execution_count": 8,
   "metadata": {},
   "outputs": [],
   "source": [
    "X2D_using_svd = X2D"
   ]
  },
  {
   "cell_type": "code",
   "execution_count": 9,
   "metadata": {},
   "outputs": [
    {
     "data": {
      "text/plain": [
       "array([[-1.26203346, -0.42067648],\n",
       "       [ 0.08001485,  0.35272239],\n",
       "       [-1.17545763, -0.36085729],\n",
       "       [-0.89305601,  0.30862856],\n",
       "       [-0.73016287,  0.25404049]])"
      ]
     },
     "execution_count": 9,
     "metadata": {},
     "output_type": "execute_result"
    }
   ],
   "source": [
    "X2D_using_svd[:5]"
   ]
  },
  {
   "cell_type": "markdown",
   "metadata": {},
   "source": [
    "## PCA using Scikit-Learn"
   ]
  },
  {
   "cell_type": "code",
   "execution_count": 6,
   "metadata": {},
   "outputs": [],
   "source": [
    "from sklearn.decomposition import PCA\n",
    "\n",
    "pca = PCA(n_components = 2)\n",
    "X2D = pca.fit_transform(X)"
   ]
  },
  {
   "cell_type": "code",
   "execution_count": 11,
   "metadata": {},
   "outputs": [
    {
     "data": {
      "text/plain": [
       "array([[ 1.26203346,  0.42067648],\n",
       "       [-0.08001485, -0.35272239],\n",
       "       [ 1.17545763,  0.36085729],\n",
       "       [ 0.89305601, -0.30862856],\n",
       "       [ 0.73016287, -0.25404049]])"
      ]
     },
     "execution_count": 11,
     "metadata": {},
     "output_type": "execute_result"
    }
   ],
   "source": [
    "X2D[:5]"
   ]
  },
  {
   "cell_type": "code",
   "execution_count": 12,
   "metadata": {},
   "outputs": [
    {
     "data": {
      "text/plain": [
       "False"
      ]
     },
     "execution_count": 12,
     "metadata": {},
     "output_type": "execute_result"
    }
   ],
   "source": [
    "np.allclose(X2D, X2D_using_svd)"
   ]
  },
  {
   "cell_type": "code",
   "execution_count": 13,
   "metadata": {},
   "outputs": [],
   "source": [
    "X3D_inv = pca.inverse_transform(X2D)"
   ]
  },
  {
   "cell_type": "code",
   "execution_count": 14,
   "metadata": {},
   "outputs": [
    {
     "data": {
      "text/plain": [
       "False"
      ]
     },
     "execution_count": 14,
     "metadata": {},
     "output_type": "execute_result"
    }
   ],
   "source": [
    "np.allclose(X3D_inv, X)"
   ]
  },
  {
   "cell_type": "markdown",
   "metadata": {},
   "source": [
    "## PCA"
   ]
  },
  {
   "cell_type": "code",
   "execution_count": 15,
   "metadata": {},
   "outputs": [
    {
     "data": {
      "text/plain": [
       "array([[-0.93636116, -0.29854881, -0.18465208],\n",
       "       [ 0.34027485, -0.90119108, -0.2684542 ]])"
      ]
     },
     "execution_count": 15,
     "metadata": {},
     "output_type": "execute_result"
    }
   ],
   "source": [
    "pca.components_"
   ]
  },
  {
   "cell_type": "code",
   "execution_count": 16,
   "metadata": {},
   "outputs": [
    {
     "data": {
      "text/plain": [
       "array([[ 0.93636116,  0.29854881,  0.18465208],\n",
       "       [-0.34027485,  0.90119108,  0.2684542 ]])"
      ]
     },
     "execution_count": 16,
     "metadata": {},
     "output_type": "execute_result"
    }
   ],
   "source": [
    "Vt[:2]"
   ]
  },
  {
   "cell_type": "code",
   "execution_count": 17,
   "metadata": {},
   "outputs": [
    {
     "data": {
      "text/plain": [
       "array([0.84248607, 0.14631839])"
      ]
     },
     "execution_count": 17,
     "metadata": {},
     "output_type": "execute_result"
    }
   ],
   "source": [
    "pca.explained_variance_ratio_"
   ]
  },
  {
   "cell_type": "code",
   "execution_count": 18,
   "metadata": {},
   "outputs": [
    {
     "data": {
      "text/plain": [
       "0.011195535570688975"
      ]
     },
     "execution_count": 18,
     "metadata": {},
     "output_type": "execute_result"
    }
   ],
   "source": [
    "1 - pca.explained_variance_ratio_.sum()"
   ]
  },
  {
   "cell_type": "markdown",
   "metadata": {},
   "source": [
    "## MNIST"
   ]
  },
  {
   "cell_type": "code",
   "execution_count": 2,
   "metadata": {},
   "outputs": [],
   "source": [
    "import pandas as pd\n",
    "data = pd.read_csv('mnist_784.csv')"
   ]
  },
  {
   "cell_type": "code",
   "execution_count": 3,
   "metadata": {},
   "outputs": [],
   "source": [
    "y = data['class']\n",
    "X = data.drop(['class'], axis = 1)"
   ]
  },
  {
   "cell_type": "code",
   "execution_count": 4,
   "metadata": {},
   "outputs": [],
   "source": [
    "from sklearn.model_selection import train_test_split\n",
    "\n",
    "X_train, X_test, y_train, y_test = train_test_split(X, y, random_state = 0)"
   ]
  },
  {
   "cell_type": "code",
   "execution_count": 9,
   "metadata": {},
   "outputs": [],
   "source": [
    "pca = PCA()\n",
    "pca.fit(X_train)\n",
    "\n",
    "cumsum = np.cumsum(pca.explained_variance_ratio_)\n",
    "d = np.argmax(cumsum >= 0.95) + 1"
   ]
  },
  {
   "cell_type": "code",
   "execution_count": 10,
   "metadata": {},
   "outputs": [
    {
     "data": {
      "text/plain": [
       "154"
      ]
     },
     "execution_count": 10,
     "metadata": {},
     "output_type": "execute_result"
    }
   ],
   "source": [
    "d"
   ]
  },
  {
   "cell_type": "code",
   "execution_count": 11,
   "metadata": {},
   "outputs": [],
   "source": [
    "pca = PCA(n_components=0.95)\n",
    "X_reduced = pca.fit_transform(X_train)"
   ]
  },
  {
   "cell_type": "code",
   "execution_count": 12,
   "metadata": {},
   "outputs": [
    {
     "data": {
      "text/plain": [
       "154"
      ]
     },
     "execution_count": 12,
     "metadata": {},
     "output_type": "execute_result"
    }
   ],
   "source": [
    "pca.n_components_"
   ]
  },
  {
   "cell_type": "code",
   "execution_count": 13,
   "metadata": {},
   "outputs": [
    {
     "data": {
      "text/plain": [
       "0.9504042024953484"
      ]
     },
     "execution_count": 13,
     "metadata": {},
     "output_type": "execute_result"
    }
   ],
   "source": [
    "np.sum(pca.explained_variance_ratio_)"
   ]
  },
  {
   "cell_type": "code",
   "execution_count": 14,
   "metadata": {},
   "outputs": [],
   "source": [
    "pca = PCA(n_components = 154)\n",
    "X_reduced = pca.fit_transform(X_train)\n",
    "X_recovered = pca.inverse_transform(X_reduced)"
   ]
  },
  {
   "cell_type": "code",
   "execution_count": 15,
   "metadata": {},
   "outputs": [],
   "source": [
    "X_reduced_pca = X_reduced"
   ]
  },
  {
   "cell_type": "markdown",
   "metadata": {},
   "source": [
    "## Incremental PCA"
   ]
  },
  {
   "cell_type": "code",
   "execution_count": 32,
   "metadata": {},
   "outputs": [
    {
     "name": "stdout",
     "output_type": "stream",
     "text": [
      "...................................................................................................."
     ]
    }
   ],
   "source": [
    "from sklearn.decomposition import IncrementalPCA\n",
    "\n",
    "n_batches = 100\n",
    "\n",
    "inc_pca = IncrementalPCA(n_components=154)\n",
    "for X_batch in np.array_split(X_train, n_batches):\n",
    "    print(\".\", end=\"\")\n",
    "    inc_pca.partial_fit(X_batch)\n",
    "\n",
    "X_reduced = inc_pca.transform(X_train)"
   ]
  },
  {
   "cell_type": "code",
   "execution_count": null,
   "metadata": {},
   "outputs": [],
   "source": [
    "X_recovered_inc_pca = inc_pca.inverse_transform(X_reduced)"
   ]
  },
  {
   "cell_type": "code",
   "execution_count": null,
   "metadata": {},
   "outputs": [],
   "source": [
    "X_reduced_inc_pca = X_reduced"
   ]
  },
  {
   "cell_type": "code",
   "execution_count": null,
   "metadata": {},
   "outputs": [],
   "source": [
    "np.allclose(pca.mean_, inc_pca.mean_)"
   ]
  },
  {
   "cell_type": "code",
   "execution_count": null,
   "metadata": {},
   "outputs": [],
   "source": [
    "np.allclose(X_reduced_pca, X_reduced_inc_pca)"
   ]
  },
  {
   "cell_type": "markdown",
   "metadata": {},
   "source": [
    "## Kernel PCA"
   ]
  },
  {
   "cell_type": "code",
   "execution_count": 33,
   "metadata": {},
   "outputs": [],
   "source": [
    "from sklearn.datasets import make_swiss_roll\n",
    "X, t = make_swiss_roll(n_samples=1000, noise=0.2, random_state=0)\n",
    "y = t > 6.9"
   ]
  },
  {
   "cell_type": "code",
   "execution_count": 34,
   "metadata": {},
   "outputs": [],
   "source": [
    "from sklearn.decomposition import KernelPCA\n",
    "\n",
    "rbf_pca = KernelPCA(n_components = 2, kernel=\"rbf\", gamma=0.04)\n",
    "X_reduced = rbf_pca.fit_transform(X)"
   ]
  },
  {
   "cell_type": "code",
   "execution_count": 35,
   "metadata": {},
   "outputs": [
    {
     "data": {
      "text/plain": [
       "GridSearchCV(cv=3, error_score='raise',\n",
       "       estimator=Pipeline(memory=None,\n",
       "     steps=[('kpca', KernelPCA(alpha=1.0, coef0=1, copy_X=True, degree=3, eigen_solver='auto',\n",
       "     fit_inverse_transform=False, gamma=None, kernel='linear',\n",
       "     kernel_params=None, max_iter=None, n_components=2, n_jobs=1,\n",
       "     random_state=None, remove_zero_eig=False, tol=0)), ('log_reg', LogisticRegre...ty='l2', random_state=None, solver='liblinear', tol=0.0001,\n",
       "          verbose=0, warm_start=False))]),\n",
       "       fit_params=None, iid=True, n_jobs=1,\n",
       "       param_grid=[{'kpca__gamma': array([0.03   , 0.03222, 0.03444, 0.03667, 0.03889, 0.04111, 0.04333,\n",
       "       0.04556, 0.04778, 0.05   ]), 'kpca__kernel': ['rbf', 'sigmoid']}],\n",
       "       pre_dispatch='2*n_jobs', refit=True, return_train_score='warn',\n",
       "       scoring=None, verbose=0)"
      ]
     },
     "execution_count": 35,
     "metadata": {},
     "output_type": "execute_result"
    }
   ],
   "source": [
    "from sklearn.model_selection import GridSearchCV\n",
    "from sklearn.linear_model import LogisticRegression\n",
    "from sklearn.pipeline import Pipeline\n",
    "\n",
    "clf = Pipeline([\n",
    "        (\"kpca\", KernelPCA(n_components=2)),\n",
    "        (\"log_reg\", LogisticRegression())\n",
    "    ])\n",
    "\n",
    "param_grid = [{\n",
    "        \"kpca__gamma\": np.linspace(0.03, 0.05, 10),\n",
    "        \"kpca__kernel\": [\"rbf\", \"sigmoid\"]\n",
    "    }]\n",
    "\n",
    "grid_search = GridSearchCV(clf, param_grid, cv=3)\n",
    "grid_search.fit(X, y)"
   ]
  },
  {
   "cell_type": "code",
   "execution_count": 36,
   "metadata": {},
   "outputs": [
    {
     "name": "stdout",
     "output_type": "stream",
     "text": [
      "{'kpca__gamma': 0.03888888888888889, 'kpca__kernel': 'rbf'}\n"
     ]
    }
   ],
   "source": [
    "print(grid_search.best_params_)"
   ]
  },
  {
   "cell_type": "code",
   "execution_count": 37,
   "metadata": {},
   "outputs": [],
   "source": [
    "rbf_pca = KernelPCA(n_components = 2, kernel=\"rbf\", gamma=0.0389,\n",
    "                    fit_inverse_transform=True)\n",
    "X_reduced = rbf_pca.fit_transform(X)\n",
    "X_preimage = rbf_pca.inverse_transform(X_reduced)"
   ]
  },
  {
   "cell_type": "code",
   "execution_count": 38,
   "metadata": {},
   "outputs": [
    {
     "data": {
      "text/plain": [
       "29.29709340907459"
      ]
     },
     "execution_count": 38,
     "metadata": {},
     "output_type": "execute_result"
    }
   ],
   "source": [
    "from sklearn.metrics import mean_squared_error\n",
    "\n",
    "mean_squared_error(X, X_preimage)"
   ]
  },
  {
   "cell_type": "markdown",
   "metadata": {},
   "source": [
    "## LLE"
   ]
  },
  {
   "cell_type": "code",
   "execution_count": 39,
   "metadata": {},
   "outputs": [],
   "source": [
    "X, t = make_swiss_roll(n_samples=1000, noise=0.2, random_state=0)"
   ]
  },
  {
   "cell_type": "code",
   "execution_count": 40,
   "metadata": {},
   "outputs": [],
   "source": [
    "from sklearn.manifold import LocallyLinearEmbedding\n",
    "\n",
    "lle = LocallyLinearEmbedding(n_components=2, n_neighbors=10, random_state=0)\n",
    "X_reduced = lle.fit_transform(X)"
   ]
  },
  {
   "cell_type": "code",
   "execution_count": 41,
   "metadata": {},
   "outputs": [
    {
     "data": {
      "application/javascript": [
       "/* Put everything inside the global mpl namespace */\n",
       "window.mpl = {};\n",
       "\n",
       "\n",
       "mpl.get_websocket_type = function() {\n",
       "    if (typeof(WebSocket) !== 'undefined') {\n",
       "        return WebSocket;\n",
       "    } else if (typeof(MozWebSocket) !== 'undefined') {\n",
       "        return MozWebSocket;\n",
       "    } else {\n",
       "        alert('Your browser does not have WebSocket support.' +\n",
       "              'Please try Chrome, Safari or Firefox ≥ 6. ' +\n",
       "              'Firefox 4 and 5 are also supported but you ' +\n",
       "              'have to enable WebSockets in about:config.');\n",
       "    };\n",
       "}\n",
       "\n",
       "mpl.figure = function(figure_id, websocket, ondownload, parent_element) {\n",
       "    this.id = figure_id;\n",
       "\n",
       "    this.ws = websocket;\n",
       "\n",
       "    this.supports_binary = (this.ws.binaryType != undefined);\n",
       "\n",
       "    if (!this.supports_binary) {\n",
       "        var warnings = document.getElementById(\"mpl-warnings\");\n",
       "        if (warnings) {\n",
       "            warnings.style.display = 'block';\n",
       "            warnings.textContent = (\n",
       "                \"This browser does not support binary websocket messages. \" +\n",
       "                    \"Performance may be slow.\");\n",
       "        }\n",
       "    }\n",
       "\n",
       "    this.imageObj = new Image();\n",
       "\n",
       "    this.context = undefined;\n",
       "    this.message = undefined;\n",
       "    this.canvas = undefined;\n",
       "    this.rubberband_canvas = undefined;\n",
       "    this.rubberband_context = undefined;\n",
       "    this.format_dropdown = undefined;\n",
       "\n",
       "    this.image_mode = 'full';\n",
       "\n",
       "    this.root = $('<div/>');\n",
       "    this._root_extra_style(this.root)\n",
       "    this.root.attr('style', 'display: inline-block');\n",
       "\n",
       "    $(parent_element).append(this.root);\n",
       "\n",
       "    this._init_header(this);\n",
       "    this._init_canvas(this);\n",
       "    this._init_toolbar(this);\n",
       "\n",
       "    var fig = this;\n",
       "\n",
       "    this.waiting = false;\n",
       "\n",
       "    this.ws.onopen =  function () {\n",
       "            fig.send_message(\"supports_binary\", {value: fig.supports_binary});\n",
       "            fig.send_message(\"send_image_mode\", {});\n",
       "            if (mpl.ratio != 1) {\n",
       "                fig.send_message(\"set_dpi_ratio\", {'dpi_ratio': mpl.ratio});\n",
       "            }\n",
       "            fig.send_message(\"refresh\", {});\n",
       "        }\n",
       "\n",
       "    this.imageObj.onload = function() {\n",
       "            if (fig.image_mode == 'full') {\n",
       "                // Full images could contain transparency (where diff images\n",
       "                // almost always do), so we need to clear the canvas so that\n",
       "                // there is no ghosting.\n",
       "                fig.context.clearRect(0, 0, fig.canvas.width, fig.canvas.height);\n",
       "            }\n",
       "            fig.context.drawImage(fig.imageObj, 0, 0);\n",
       "        };\n",
       "\n",
       "    this.imageObj.onunload = function() {\n",
       "        fig.ws.close();\n",
       "    }\n",
       "\n",
       "    this.ws.onmessage = this._make_on_message_function(this);\n",
       "\n",
       "    this.ondownload = ondownload;\n",
       "}\n",
       "\n",
       "mpl.figure.prototype._init_header = function() {\n",
       "    var titlebar = $(\n",
       "        '<div class=\"ui-dialog-titlebar ui-widget-header ui-corner-all ' +\n",
       "        'ui-helper-clearfix\"/>');\n",
       "    var titletext = $(\n",
       "        '<div class=\"ui-dialog-title\" style=\"width: 100%; ' +\n",
       "        'text-align: center; padding: 3px;\"/>');\n",
       "    titlebar.append(titletext)\n",
       "    this.root.append(titlebar);\n",
       "    this.header = titletext[0];\n",
       "}\n",
       "\n",
       "\n",
       "\n",
       "mpl.figure.prototype._canvas_extra_style = function(canvas_div) {\n",
       "\n",
       "}\n",
       "\n",
       "\n",
       "mpl.figure.prototype._root_extra_style = function(canvas_div) {\n",
       "\n",
       "}\n",
       "\n",
       "mpl.figure.prototype._init_canvas = function() {\n",
       "    var fig = this;\n",
       "\n",
       "    var canvas_div = $('<div/>');\n",
       "\n",
       "    canvas_div.attr('style', 'position: relative; clear: both; outline: 0');\n",
       "\n",
       "    function canvas_keyboard_event(event) {\n",
       "        return fig.key_event(event, event['data']);\n",
       "    }\n",
       "\n",
       "    canvas_div.keydown('key_press', canvas_keyboard_event);\n",
       "    canvas_div.keyup('key_release', canvas_keyboard_event);\n",
       "    this.canvas_div = canvas_div\n",
       "    this._canvas_extra_style(canvas_div)\n",
       "    this.root.append(canvas_div);\n",
       "\n",
       "    var canvas = $('<canvas/>');\n",
       "    canvas.addClass('mpl-canvas');\n",
       "    canvas.attr('style', \"left: 0; top: 0; z-index: 0; outline: 0\")\n",
       "\n",
       "    this.canvas = canvas[0];\n",
       "    this.context = canvas[0].getContext(\"2d\");\n",
       "\n",
       "    var backingStore = this.context.backingStorePixelRatio ||\n",
       "\tthis.context.webkitBackingStorePixelRatio ||\n",
       "\tthis.context.mozBackingStorePixelRatio ||\n",
       "\tthis.context.msBackingStorePixelRatio ||\n",
       "\tthis.context.oBackingStorePixelRatio ||\n",
       "\tthis.context.backingStorePixelRatio || 1;\n",
       "\n",
       "    mpl.ratio = (window.devicePixelRatio || 1) / backingStore;\n",
       "\n",
       "    var rubberband = $('<canvas/>');\n",
       "    rubberband.attr('style', \"position: absolute; left: 0; top: 0; z-index: 1;\")\n",
       "\n",
       "    var pass_mouse_events = true;\n",
       "\n",
       "    canvas_div.resizable({\n",
       "        start: function(event, ui) {\n",
       "            pass_mouse_events = false;\n",
       "        },\n",
       "        resize: function(event, ui) {\n",
       "            fig.request_resize(ui.size.width, ui.size.height);\n",
       "        },\n",
       "        stop: function(event, ui) {\n",
       "            pass_mouse_events = true;\n",
       "            fig.request_resize(ui.size.width, ui.size.height);\n",
       "        },\n",
       "    });\n",
       "\n",
       "    function mouse_event_fn(event) {\n",
       "        if (pass_mouse_events)\n",
       "            return fig.mouse_event(event, event['data']);\n",
       "    }\n",
       "\n",
       "    rubberband.mousedown('button_press', mouse_event_fn);\n",
       "    rubberband.mouseup('button_release', mouse_event_fn);\n",
       "    // Throttle sequential mouse events to 1 every 20ms.\n",
       "    rubberband.mousemove('motion_notify', mouse_event_fn);\n",
       "\n",
       "    rubberband.mouseenter('figure_enter', mouse_event_fn);\n",
       "    rubberband.mouseleave('figure_leave', mouse_event_fn);\n",
       "\n",
       "    canvas_div.on(\"wheel\", function (event) {\n",
       "        event = event.originalEvent;\n",
       "        event['data'] = 'scroll'\n",
       "        if (event.deltaY < 0) {\n",
       "            event.step = 1;\n",
       "        } else {\n",
       "            event.step = -1;\n",
       "        }\n",
       "        mouse_event_fn(event);\n",
       "    });\n",
       "\n",
       "    canvas_div.append(canvas);\n",
       "    canvas_div.append(rubberband);\n",
       "\n",
       "    this.rubberband = rubberband;\n",
       "    this.rubberband_canvas = rubberband[0];\n",
       "    this.rubberband_context = rubberband[0].getContext(\"2d\");\n",
       "    this.rubberband_context.strokeStyle = \"#000000\";\n",
       "\n",
       "    this._resize_canvas = function(width, height) {\n",
       "        // Keep the size of the canvas, canvas container, and rubber band\n",
       "        // canvas in synch.\n",
       "        canvas_div.css('width', width)\n",
       "        canvas_div.css('height', height)\n",
       "\n",
       "        canvas.attr('width', width * mpl.ratio);\n",
       "        canvas.attr('height', height * mpl.ratio);\n",
       "        canvas.attr('style', 'width: ' + width + 'px; height: ' + height + 'px;');\n",
       "\n",
       "        rubberband.attr('width', width);\n",
       "        rubberband.attr('height', height);\n",
       "    }\n",
       "\n",
       "    // Set the figure to an initial 600x600px, this will subsequently be updated\n",
       "    // upon first draw.\n",
       "    this._resize_canvas(600, 600);\n",
       "\n",
       "    // Disable right mouse context menu.\n",
       "    $(this.rubberband_canvas).bind(\"contextmenu\",function(e){\n",
       "        return false;\n",
       "    });\n",
       "\n",
       "    function set_focus () {\n",
       "        canvas.focus();\n",
       "        canvas_div.focus();\n",
       "    }\n",
       "\n",
       "    window.setTimeout(set_focus, 100);\n",
       "}\n",
       "\n",
       "mpl.figure.prototype._init_toolbar = function() {\n",
       "    var fig = this;\n",
       "\n",
       "    var nav_element = $('<div/>')\n",
       "    nav_element.attr('style', 'width: 100%');\n",
       "    this.root.append(nav_element);\n",
       "\n",
       "    // Define a callback function for later on.\n",
       "    function toolbar_event(event) {\n",
       "        return fig.toolbar_button_onclick(event['data']);\n",
       "    }\n",
       "    function toolbar_mouse_event(event) {\n",
       "        return fig.toolbar_button_onmouseover(event['data']);\n",
       "    }\n",
       "\n",
       "    for(var toolbar_ind in mpl.toolbar_items) {\n",
       "        var name = mpl.toolbar_items[toolbar_ind][0];\n",
       "        var tooltip = mpl.toolbar_items[toolbar_ind][1];\n",
       "        var image = mpl.toolbar_items[toolbar_ind][2];\n",
       "        var method_name = mpl.toolbar_items[toolbar_ind][3];\n",
       "\n",
       "        if (!name) {\n",
       "            // put a spacer in here.\n",
       "            continue;\n",
       "        }\n",
       "        var button = $('<button/>');\n",
       "        button.addClass('ui-button ui-widget ui-state-default ui-corner-all ' +\n",
       "                        'ui-button-icon-only');\n",
       "        button.attr('role', 'button');\n",
       "        button.attr('aria-disabled', 'false');\n",
       "        button.click(method_name, toolbar_event);\n",
       "        button.mouseover(tooltip, toolbar_mouse_event);\n",
       "\n",
       "        var icon_img = $('<span/>');\n",
       "        icon_img.addClass('ui-button-icon-primary ui-icon');\n",
       "        icon_img.addClass(image);\n",
       "        icon_img.addClass('ui-corner-all');\n",
       "\n",
       "        var tooltip_span = $('<span/>');\n",
       "        tooltip_span.addClass('ui-button-text');\n",
       "        tooltip_span.html(tooltip);\n",
       "\n",
       "        button.append(icon_img);\n",
       "        button.append(tooltip_span);\n",
       "\n",
       "        nav_element.append(button);\n",
       "    }\n",
       "\n",
       "    var fmt_picker_span = $('<span/>');\n",
       "\n",
       "    var fmt_picker = $('<select/>');\n",
       "    fmt_picker.addClass('mpl-toolbar-option ui-widget ui-widget-content');\n",
       "    fmt_picker_span.append(fmt_picker);\n",
       "    nav_element.append(fmt_picker_span);\n",
       "    this.format_dropdown = fmt_picker[0];\n",
       "\n",
       "    for (var ind in mpl.extensions) {\n",
       "        var fmt = mpl.extensions[ind];\n",
       "        var option = $(\n",
       "            '<option/>', {selected: fmt === mpl.default_extension}).html(fmt);\n",
       "        fmt_picker.append(option)\n",
       "    }\n",
       "\n",
       "    // Add hover states to the ui-buttons\n",
       "    $( \".ui-button\" ).hover(\n",
       "        function() { $(this).addClass(\"ui-state-hover\");},\n",
       "        function() { $(this).removeClass(\"ui-state-hover\");}\n",
       "    );\n",
       "\n",
       "    var status_bar = $('<span class=\"mpl-message\"/>');\n",
       "    nav_element.append(status_bar);\n",
       "    this.message = status_bar[0];\n",
       "}\n",
       "\n",
       "mpl.figure.prototype.request_resize = function(x_pixels, y_pixels) {\n",
       "    // Request matplotlib to resize the figure. Matplotlib will then trigger a resize in the client,\n",
       "    // which will in turn request a refresh of the image.\n",
       "    this.send_message('resize', {'width': x_pixels, 'height': y_pixels});\n",
       "}\n",
       "\n",
       "mpl.figure.prototype.send_message = function(type, properties) {\n",
       "    properties['type'] = type;\n",
       "    properties['figure_id'] = this.id;\n",
       "    this.ws.send(JSON.stringify(properties));\n",
       "}\n",
       "\n",
       "mpl.figure.prototype.send_draw_message = function() {\n",
       "    if (!this.waiting) {\n",
       "        this.waiting = true;\n",
       "        this.ws.send(JSON.stringify({type: \"draw\", figure_id: this.id}));\n",
       "    }\n",
       "}\n",
       "\n",
       "\n",
       "mpl.figure.prototype.handle_save = function(fig, msg) {\n",
       "    var format_dropdown = fig.format_dropdown;\n",
       "    var format = format_dropdown.options[format_dropdown.selectedIndex].value;\n",
       "    fig.ondownload(fig, format);\n",
       "}\n",
       "\n",
       "\n",
       "mpl.figure.prototype.handle_resize = function(fig, msg) {\n",
       "    var size = msg['size'];\n",
       "    if (size[0] != fig.canvas.width || size[1] != fig.canvas.height) {\n",
       "        fig._resize_canvas(size[0], size[1]);\n",
       "        fig.send_message(\"refresh\", {});\n",
       "    };\n",
       "}\n",
       "\n",
       "mpl.figure.prototype.handle_rubberband = function(fig, msg) {\n",
       "    var x0 = msg['x0'] / mpl.ratio;\n",
       "    var y0 = (fig.canvas.height - msg['y0']) / mpl.ratio;\n",
       "    var x1 = msg['x1'] / mpl.ratio;\n",
       "    var y1 = (fig.canvas.height - msg['y1']) / mpl.ratio;\n",
       "    x0 = Math.floor(x0) + 0.5;\n",
       "    y0 = Math.floor(y0) + 0.5;\n",
       "    x1 = Math.floor(x1) + 0.5;\n",
       "    y1 = Math.floor(y1) + 0.5;\n",
       "    var min_x = Math.min(x0, x1);\n",
       "    var min_y = Math.min(y0, y1);\n",
       "    var width = Math.abs(x1 - x0);\n",
       "    var height = Math.abs(y1 - y0);\n",
       "\n",
       "    fig.rubberband_context.clearRect(\n",
       "        0, 0, fig.canvas.width, fig.canvas.height);\n",
       "\n",
       "    fig.rubberband_context.strokeRect(min_x, min_y, width, height);\n",
       "}\n",
       "\n",
       "mpl.figure.prototype.handle_figure_label = function(fig, msg) {\n",
       "    // Updates the figure title.\n",
       "    fig.header.textContent = msg['label'];\n",
       "}\n",
       "\n",
       "mpl.figure.prototype.handle_cursor = function(fig, msg) {\n",
       "    var cursor = msg['cursor'];\n",
       "    switch(cursor)\n",
       "    {\n",
       "    case 0:\n",
       "        cursor = 'pointer';\n",
       "        break;\n",
       "    case 1:\n",
       "        cursor = 'default';\n",
       "        break;\n",
       "    case 2:\n",
       "        cursor = 'crosshair';\n",
       "        break;\n",
       "    case 3:\n",
       "        cursor = 'move';\n",
       "        break;\n",
       "    }\n",
       "    fig.rubberband_canvas.style.cursor = cursor;\n",
       "}\n",
       "\n",
       "mpl.figure.prototype.handle_message = function(fig, msg) {\n",
       "    fig.message.textContent = msg['message'];\n",
       "}\n",
       "\n",
       "mpl.figure.prototype.handle_draw = function(fig, msg) {\n",
       "    // Request the server to send over a new figure.\n",
       "    fig.send_draw_message();\n",
       "}\n",
       "\n",
       "mpl.figure.prototype.handle_image_mode = function(fig, msg) {\n",
       "    fig.image_mode = msg['mode'];\n",
       "}\n",
       "\n",
       "mpl.figure.prototype.updated_canvas_event = function() {\n",
       "    // Called whenever the canvas gets updated.\n",
       "    this.send_message(\"ack\", {});\n",
       "}\n",
       "\n",
       "// A function to construct a web socket function for onmessage handling.\n",
       "// Called in the figure constructor.\n",
       "mpl.figure.prototype._make_on_message_function = function(fig) {\n",
       "    return function socket_on_message(evt) {\n",
       "        if (evt.data instanceof Blob) {\n",
       "            /* FIXME: We get \"Resource interpreted as Image but\n",
       "             * transferred with MIME type text/plain:\" errors on\n",
       "             * Chrome.  But how to set the MIME type?  It doesn't seem\n",
       "             * to be part of the websocket stream */\n",
       "            evt.data.type = \"image/png\";\n",
       "\n",
       "            /* Free the memory for the previous frames */\n",
       "            if (fig.imageObj.src) {\n",
       "                (window.URL || window.webkitURL).revokeObjectURL(\n",
       "                    fig.imageObj.src);\n",
       "            }\n",
       "\n",
       "            fig.imageObj.src = (window.URL || window.webkitURL).createObjectURL(\n",
       "                evt.data);\n",
       "            fig.updated_canvas_event();\n",
       "            fig.waiting = false;\n",
       "            return;\n",
       "        }\n",
       "        else if (typeof evt.data === 'string' && evt.data.slice(0, 21) == \"data:image/png;base64\") {\n",
       "            fig.imageObj.src = evt.data;\n",
       "            fig.updated_canvas_event();\n",
       "            fig.waiting = false;\n",
       "            return;\n",
       "        }\n",
       "\n",
       "        var msg = JSON.parse(evt.data);\n",
       "        var msg_type = msg['type'];\n",
       "\n",
       "        // Call the  \"handle_{type}\" callback, which takes\n",
       "        // the figure and JSON message as its only arguments.\n",
       "        try {\n",
       "            var callback = fig[\"handle_\" + msg_type];\n",
       "        } catch (e) {\n",
       "            console.log(\"No handler for the '\" + msg_type + \"' message type: \", msg);\n",
       "            return;\n",
       "        }\n",
       "\n",
       "        if (callback) {\n",
       "            try {\n",
       "                // console.log(\"Handling '\" + msg_type + \"' message: \", msg);\n",
       "                callback(fig, msg);\n",
       "            } catch (e) {\n",
       "                console.log(\"Exception inside the 'handler_\" + msg_type + \"' callback:\", e, e.stack, msg);\n",
       "            }\n",
       "        }\n",
       "    };\n",
       "}\n",
       "\n",
       "// from http://stackoverflow.com/questions/1114465/getting-mouse-location-in-canvas\n",
       "mpl.findpos = function(e) {\n",
       "    //this section is from http://www.quirksmode.org/js/events_properties.html\n",
       "    var targ;\n",
       "    if (!e)\n",
       "        e = window.event;\n",
       "    if (e.target)\n",
       "        targ = e.target;\n",
       "    else if (e.srcElement)\n",
       "        targ = e.srcElement;\n",
       "    if (targ.nodeType == 3) // defeat Safari bug\n",
       "        targ = targ.parentNode;\n",
       "\n",
       "    // jQuery normalizes the pageX and pageY\n",
       "    // pageX,Y are the mouse positions relative to the document\n",
       "    // offset() returns the position of the element relative to the document\n",
       "    var x = e.pageX - $(targ).offset().left;\n",
       "    var y = e.pageY - $(targ).offset().top;\n",
       "\n",
       "    return {\"x\": x, \"y\": y};\n",
       "};\n",
       "\n",
       "/*\n",
       " * return a copy of an object with only non-object keys\n",
       " * we need this to avoid circular references\n",
       " * http://stackoverflow.com/a/24161582/3208463\n",
       " */\n",
       "function simpleKeys (original) {\n",
       "  return Object.keys(original).reduce(function (obj, key) {\n",
       "    if (typeof original[key] !== 'object')\n",
       "        obj[key] = original[key]\n",
       "    return obj;\n",
       "  }, {});\n",
       "}\n",
       "\n",
       "mpl.figure.prototype.mouse_event = function(event, name) {\n",
       "    var canvas_pos = mpl.findpos(event)\n",
       "\n",
       "    if (name === 'button_press')\n",
       "    {\n",
       "        this.canvas.focus();\n",
       "        this.canvas_div.focus();\n",
       "    }\n",
       "\n",
       "    var x = canvas_pos.x * mpl.ratio;\n",
       "    var y = canvas_pos.y * mpl.ratio;\n",
       "\n",
       "    this.send_message(name, {x: x, y: y, button: event.button,\n",
       "                             step: event.step,\n",
       "                             guiEvent: simpleKeys(event)});\n",
       "\n",
       "    /* This prevents the web browser from automatically changing to\n",
       "     * the text insertion cursor when the button is pressed.  We want\n",
       "     * to control all of the cursor setting manually through the\n",
       "     * 'cursor' event from matplotlib */\n",
       "    event.preventDefault();\n",
       "    return false;\n",
       "}\n",
       "\n",
       "mpl.figure.prototype._key_event_extra = function(event, name) {\n",
       "    // Handle any extra behaviour associated with a key event\n",
       "}\n",
       "\n",
       "mpl.figure.prototype.key_event = function(event, name) {\n",
       "\n",
       "    // Prevent repeat events\n",
       "    if (name == 'key_press')\n",
       "    {\n",
       "        if (event.which === this._key)\n",
       "            return;\n",
       "        else\n",
       "            this._key = event.which;\n",
       "    }\n",
       "    if (name == 'key_release')\n",
       "        this._key = null;\n",
       "\n",
       "    var value = '';\n",
       "    if (event.ctrlKey && event.which != 17)\n",
       "        value += \"ctrl+\";\n",
       "    if (event.altKey && event.which != 18)\n",
       "        value += \"alt+\";\n",
       "    if (event.shiftKey && event.which != 16)\n",
       "        value += \"shift+\";\n",
       "\n",
       "    value += 'k';\n",
       "    value += event.which.toString();\n",
       "\n",
       "    this._key_event_extra(event, name);\n",
       "\n",
       "    this.send_message(name, {key: value,\n",
       "                             guiEvent: simpleKeys(event)});\n",
       "    return false;\n",
       "}\n",
       "\n",
       "mpl.figure.prototype.toolbar_button_onclick = function(name) {\n",
       "    if (name == 'download') {\n",
       "        this.handle_save(this, null);\n",
       "    } else {\n",
       "        this.send_message(\"toolbar_button\", {name: name});\n",
       "    }\n",
       "};\n",
       "\n",
       "mpl.figure.prototype.toolbar_button_onmouseover = function(tooltip) {\n",
       "    this.message.textContent = tooltip;\n",
       "};\n",
       "mpl.toolbar_items = [[\"Home\", \"Reset original view\", \"fa fa-home icon-home\", \"home\"], [\"Back\", \"Back to  previous view\", \"fa fa-arrow-left icon-arrow-left\", \"back\"], [\"Forward\", \"Forward to next view\", \"fa fa-arrow-right icon-arrow-right\", \"forward\"], [\"\", \"\", \"\", \"\"], [\"Pan\", \"Pan axes with left mouse, zoom with right\", \"fa fa-arrows icon-move\", \"pan\"], [\"Zoom\", \"Zoom to rectangle\", \"fa fa-square-o icon-check-empty\", \"zoom\"], [\"\", \"\", \"\", \"\"], [\"Download\", \"Download plot\", \"fa fa-floppy-o icon-save\", \"download\"]];\n",
       "\n",
       "mpl.extensions = [\"eps\", \"jpeg\", \"pdf\", \"png\", \"ps\", \"raw\", \"svg\", \"tif\"];\n",
       "\n",
       "mpl.default_extension = \"png\";var comm_websocket_adapter = function(comm) {\n",
       "    // Create a \"websocket\"-like object which calls the given IPython comm\n",
       "    // object with the appropriate methods. Currently this is a non binary\n",
       "    // socket, so there is still some room for performance tuning.\n",
       "    var ws = {};\n",
       "\n",
       "    ws.close = function() {\n",
       "        comm.close()\n",
       "    };\n",
       "    ws.send = function(m) {\n",
       "        //console.log('sending', m);\n",
       "        comm.send(m);\n",
       "    };\n",
       "    // Register the callback with on_msg.\n",
       "    comm.on_msg(function(msg) {\n",
       "        //console.log('receiving', msg['content']['data'], msg);\n",
       "        // Pass the mpl event to the overriden (by mpl) onmessage function.\n",
       "        ws.onmessage(msg['content']['data'])\n",
       "    });\n",
       "    return ws;\n",
       "}\n",
       "\n",
       "mpl.mpl_figure_comm = function(comm, msg) {\n",
       "    // This is the function which gets called when the mpl process\n",
       "    // starts-up an IPython Comm through the \"matplotlib\" channel.\n",
       "\n",
       "    var id = msg.content.data.id;\n",
       "    // Get hold of the div created by the display call when the Comm\n",
       "    // socket was opened in Python.\n",
       "    var element = $(\"#\" + id);\n",
       "    var ws_proxy = comm_websocket_adapter(comm)\n",
       "\n",
       "    function ondownload(figure, format) {\n",
       "        window.open(figure.imageObj.src);\n",
       "    }\n",
       "\n",
       "    var fig = new mpl.figure(id, ws_proxy,\n",
       "                           ondownload,\n",
       "                           element.get(0));\n",
       "\n",
       "    // Call onopen now - mpl needs it, as it is assuming we've passed it a real\n",
       "    // web socket which is closed, not our websocket->open comm proxy.\n",
       "    ws_proxy.onopen();\n",
       "\n",
       "    fig.parent_element = element.get(0);\n",
       "    fig.cell_info = mpl.find_output_cell(\"<div id='\" + id + \"'></div>\");\n",
       "    if (!fig.cell_info) {\n",
       "        console.error(\"Failed to find cell for figure\", id, fig);\n",
       "        return;\n",
       "    }\n",
       "\n",
       "    var output_index = fig.cell_info[2]\n",
       "    var cell = fig.cell_info[0];\n",
       "\n",
       "};\n",
       "\n",
       "mpl.figure.prototype.handle_close = function(fig, msg) {\n",
       "    var width = fig.canvas.width/mpl.ratio\n",
       "    fig.root.unbind('remove')\n",
       "\n",
       "    // Update the output cell to use the data from the current canvas.\n",
       "    fig.push_to_output();\n",
       "    var dataURL = fig.canvas.toDataURL();\n",
       "    // Re-enable the keyboard manager in IPython - without this line, in FF,\n",
       "    // the notebook keyboard shortcuts fail.\n",
       "    IPython.keyboard_manager.enable()\n",
       "    $(fig.parent_element).html('<img src=\"' + dataURL + '\" width=\"' + width + '\">');\n",
       "    fig.close_ws(fig, msg);\n",
       "}\n",
       "\n",
       "mpl.figure.prototype.close_ws = function(fig, msg){\n",
       "    fig.send_message('closing', msg);\n",
       "    // fig.ws.close()\n",
       "}\n",
       "\n",
       "mpl.figure.prototype.push_to_output = function(remove_interactive) {\n",
       "    // Turn the data on the canvas into data in the output cell.\n",
       "    var width = this.canvas.width/mpl.ratio\n",
       "    var dataURL = this.canvas.toDataURL();\n",
       "    this.cell_info[1]['text/html'] = '<img src=\"' + dataURL + '\" width=\"' + width + '\">';\n",
       "}\n",
       "\n",
       "mpl.figure.prototype.updated_canvas_event = function() {\n",
       "    // Tell IPython that the notebook contents must change.\n",
       "    IPython.notebook.set_dirty(true);\n",
       "    this.send_message(\"ack\", {});\n",
       "    var fig = this;\n",
       "    // Wait a second, then push the new image to the DOM so\n",
       "    // that it is saved nicely (might be nice to debounce this).\n",
       "    setTimeout(function () { fig.push_to_output() }, 1000);\n",
       "}\n",
       "\n",
       "mpl.figure.prototype._init_toolbar = function() {\n",
       "    var fig = this;\n",
       "\n",
       "    var nav_element = $('<div/>')\n",
       "    nav_element.attr('style', 'width: 100%');\n",
       "    this.root.append(nav_element);\n",
       "\n",
       "    // Define a callback function for later on.\n",
       "    function toolbar_event(event) {\n",
       "        return fig.toolbar_button_onclick(event['data']);\n",
       "    }\n",
       "    function toolbar_mouse_event(event) {\n",
       "        return fig.toolbar_button_onmouseover(event['data']);\n",
       "    }\n",
       "\n",
       "    for(var toolbar_ind in mpl.toolbar_items){\n",
       "        var name = mpl.toolbar_items[toolbar_ind][0];\n",
       "        var tooltip = mpl.toolbar_items[toolbar_ind][1];\n",
       "        var image = mpl.toolbar_items[toolbar_ind][2];\n",
       "        var method_name = mpl.toolbar_items[toolbar_ind][3];\n",
       "\n",
       "        if (!name) { continue; };\n",
       "\n",
       "        var button = $('<button class=\"btn btn-default\" href=\"#\" title=\"' + name + '\"><i class=\"fa ' + image + ' fa-lg\"></i></button>');\n",
       "        button.click(method_name, toolbar_event);\n",
       "        button.mouseover(tooltip, toolbar_mouse_event);\n",
       "        nav_element.append(button);\n",
       "    }\n",
       "\n",
       "    // Add the status bar.\n",
       "    var status_bar = $('<span class=\"mpl-message\" style=\"text-align:right; float: right;\"/>');\n",
       "    nav_element.append(status_bar);\n",
       "    this.message = status_bar[0];\n",
       "\n",
       "    // Add the close button to the window.\n",
       "    var buttongrp = $('<div class=\"btn-group inline pull-right\"></div>');\n",
       "    var button = $('<button class=\"btn btn-mini btn-primary\" href=\"#\" title=\"Stop Interaction\"><i class=\"fa fa-power-off icon-remove icon-large\"></i></button>');\n",
       "    button.click(function (evt) { fig.handle_close(fig, {}); } );\n",
       "    button.mouseover('Stop Interaction', toolbar_mouse_event);\n",
       "    buttongrp.append(button);\n",
       "    var titlebar = this.root.find($('.ui-dialog-titlebar'));\n",
       "    titlebar.prepend(buttongrp);\n",
       "}\n",
       "\n",
       "mpl.figure.prototype._root_extra_style = function(el){\n",
       "    var fig = this\n",
       "    el.on(\"remove\", function(){\n",
       "\tfig.close_ws(fig, {});\n",
       "    });\n",
       "}\n",
       "\n",
       "mpl.figure.prototype._canvas_extra_style = function(el){\n",
       "    // this is important to make the div 'focusable\n",
       "    el.attr('tabindex', 0)\n",
       "    // reach out to IPython and tell the keyboard manager to turn it's self\n",
       "    // off when our div gets focus\n",
       "\n",
       "    // location in version 3\n",
       "    if (IPython.notebook.keyboard_manager) {\n",
       "        IPython.notebook.keyboard_manager.register_events(el);\n",
       "    }\n",
       "    else {\n",
       "        // location in version 2\n",
       "        IPython.keyboard_manager.register_events(el);\n",
       "    }\n",
       "\n",
       "}\n",
       "\n",
       "mpl.figure.prototype._key_event_extra = function(event, name) {\n",
       "    var manager = IPython.notebook.keyboard_manager;\n",
       "    if (!manager)\n",
       "        manager = IPython.keyboard_manager;\n",
       "\n",
       "    // Check for shift+enter\n",
       "    if (event.shiftKey && event.which == 13) {\n",
       "        this.canvas_div.blur();\n",
       "        event.shiftKey = false;\n",
       "        // Send a \"J\" for go to next cell\n",
       "        event.which = 74;\n",
       "        event.keyCode = 74;\n",
       "        manager.command_mode();\n",
       "        manager.handle_keydown(event);\n",
       "    }\n",
       "}\n",
       "\n",
       "mpl.figure.prototype.handle_save = function(fig, msg) {\n",
       "    fig.ondownload(fig, null);\n",
       "}\n",
       "\n",
       "\n",
       "mpl.find_output_cell = function(html_output) {\n",
       "    // Return the cell and output element which can be found *uniquely* in the notebook.\n",
       "    // Note - this is a bit hacky, but it is done because the \"notebook_saving.Notebook\"\n",
       "    // IPython event is triggered only after the cells have been serialised, which for\n",
       "    // our purposes (turning an active figure into a static one), is too late.\n",
       "    var cells = IPython.notebook.get_cells();\n",
       "    var ncells = cells.length;\n",
       "    for (var i=0; i<ncells; i++) {\n",
       "        var cell = cells[i];\n",
       "        if (cell.cell_type === 'code'){\n",
       "            for (var j=0; j<cell.output_area.outputs.length; j++) {\n",
       "                var data = cell.output_area.outputs[j];\n",
       "                if (data.data) {\n",
       "                    // IPython >= 3 moved mimebundle to data attribute of output\n",
       "                    data = data.data;\n",
       "                }\n",
       "                if (data['text/html'] == html_output) {\n",
       "                    return [cell, data, j];\n",
       "                }\n",
       "            }\n",
       "        }\n",
       "    }\n",
       "}\n",
       "\n",
       "// Register the function which deals with the matplotlib target/channel.\n",
       "// The kernel may be null if the page has been refreshed.\n",
       "if (IPython.notebook.kernel != null) {\n",
       "    IPython.notebook.kernel.comm_manager.register_target('matplotlib', mpl.mpl_figure_comm);\n",
       "}\n"
      ],
      "text/plain": [
       "<IPython.core.display.Javascript object>"
      ]
     },
     "metadata": {},
     "output_type": "display_data"
    },
    {
     "data": {
      "text/html": [
       "<img src=\"data:image/png;base64,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\" width=\"639.9999630089984\">"
      ],
      "text/plain": [
       "<IPython.core.display.HTML object>"
      ]
     },
     "metadata": {},
     "output_type": "display_data"
    }
   ],
   "source": [
    "%matplotlib notebook \n",
    "\n",
    "plt.title(\"Unrolled swiss roll using LLE\", fontsize=14)\n",
    "plt.scatter(X_reduced[:, 0], X_reduced[:, 1], c=t, cmap=plt.cm.hot)\n",
    "plt.xlabel(\"$z_1$\", fontsize=18)\n",
    "plt.ylabel(\"$z_2$\", fontsize=18)\n",
    "plt.axis([-0.065, 0.055, -0.1, 0.12])\n",
    "plt.grid(True)"
   ]
  },
  {
   "cell_type": "code",
   "execution_count": null,
   "metadata": {},
   "outputs": [],
   "source": []
  }
 ],
 "metadata": {
  "kernelspec": {
   "display_name": "Python 3",
   "language": "python",
   "name": "python3"
  },
  "language_info": {
   "codemirror_mode": {
    "name": "ipython",
    "version": 3
   },
   "file_extension": ".py",
   "mimetype": "text/x-python",
   "name": "python",
   "nbconvert_exporter": "python",
   "pygments_lexer": "ipython3",
   "version": "3.7.1"
  }
 },
 "nbformat": 4,
 "nbformat_minor": 2
}
